{
 "cells": [
  {
   "cell_type": "code",
   "execution_count": null,
   "id": "99f3d5fe-08bc-4289-8253-5ebaf08ed15c",
   "metadata": {},
   "outputs": [],
   "source": [
    "# This extracts captions from n frames of the video, with n being the number of files in the frames directory"
   ]
  },
  {
   "cell_type": "code",
   "execution_count": null,
   "id": "a01f0c8c-25dd-484e-af74-d230e767d21d",
   "metadata": {},
   "outputs": [],
   "source": [
    "%%cmd\n",
    "%windir%\\System32\\cmd.exe \"/K\" C:\\Users\\alber\\anaconda3-researchproject\\Scripts\\activate.bat\n",
    "conda info --envs\n",
    "conda activate pizza\n",
    "cd ExpansionNet_v2-master\n",
    "python demo_multi.py --load_path github_ignore_material/rf_model-003.pth "
   ]
  },
  {
   "cell_type": "code",
   "execution_count": null,
   "id": "a8b38036-dbd1-4e2c-9f8c-eab569e19078",
   "metadata": {
    "scrolled": true
   },
   "outputs": [],
   "source": [
    "# Extracting frames from videos, put them into train and test folders automatically\n",
    "\n",
    "import cv2\n",
    "import glob\n",
    "import os\n",
    "\n",
    "home_path = \"C:/dev/valberts/Crime-Recognition-from-Context-Representation/dataset\"\n",
    "videos_path = \"C:/dev/valberts/Crime-Recognition-from-Context-Representation/dataset/UCF_Videos_bias\"\n",
    "folders = glob.glob(f\"{videos_path}/*\")\n",
    "categories = []\n",
    "\n",
    "for f in folders:\n",
    "    categories.append(f.split(\"\\\\\")[1])\n",
    "\n",
    "os.mkdir(\"dataset/video_frames\")\n",
    "os.mkdir(\"dataset/video_frames/train\")\n",
    "os.mkdir(\"dataset/video_frames/test\")\n",
    "\n",
    "for cat in categories:\n",
    "    os.mkdir(f\"dataset/video_frames/train/{cat}\")\n",
    "    os.mkdir(f\"dataset/video_frames/test/{cat}\")\n",
    "    videos = glob.glob(f\"{videos_path}/{cat}/*\")\n",
    "    count = 0\n",
    "    num_videos = len(videos)\n",
    "    print(cat)\n",
    "    \n",
    "    \n",
    "    for vid in videos:\n",
    "        if (count < ((num_videos//10)*8)):\n",
    "            type = \"train\"\n",
    "        else:\n",
    "            type = \"test\"\n",
    "        vid_name = ((vid.split(\"\\\\\")[1]).split(\".\")[0]).split(\"_\")[0]\n",
    "        vidcap = cv2.VideoCapture(vid)\n",
    "        total_frames = vidcap.get(cv2.CAP_PROP_FRAME_COUNT)\n",
    "        desired_frames = 10\n",
    "        frames_step = total_frames//desired_frames\n",
    "        \n",
    "        for i in range(desired_frames):\n",
    "            vidcap.set(1, i*frames_step)\n",
    "            success,image = vidcap.read()\n",
    "            cv2.imwrite(f\"dataset/video_frames/{type}/{cat}/{vid_name}_{str(i).zfill(2)}.png\",image)\n",
    "        vidcap.release()\n",
    "        count += 1\n",
    "        \n",
    "print(\"[COMPLETE]\")"
   ]
  },
  {
   "cell_type": "code",
   "execution_count": null,
   "id": "69ea6b48-d18a-4eb7-8d5b-f6df14170b3e",
   "metadata": {},
   "outputs": [],
   "source": [
    "# This trains the model"
   ]
  },
  {
   "cell_type": "code",
   "execution_count": null,
   "id": "e4cc2222-4e7a-41bb-b512-7d5ab5b29e20",
   "metadata": {
    "scrolled": true
   },
   "outputs": [],
   "source": [
    "%%cmd\n",
    "%windir%\\System32\\cmd.exe \"/K\" C:\\Users\\alber\\anaconda3-researchproject\\Scripts\\activate.bat\n",
    "conda info --envs\n",
    "conda activate pizza\n",
    "cd high-level-context-representation\n",
    "python train.py"
   ]
  },
  {
   "cell_type": "code",
   "execution_count": null,
   "id": "6823a0c3-3bd8-4aab-b854-b7097b949c11",
   "metadata": {},
   "outputs": [],
   "source": [
    "# Convert to one hot representation"
   ]
  },
  {
   "cell_type": "code",
   "execution_count": null,
   "id": "1f4f924d-8814-43f4-86a7-dd78939f29e5",
   "metadata": {},
   "outputs": [],
   "source": [
    "%%cmd\n",
    "%windir%\\System32\\cmd.exe \"/K\" C:\\Users\\alber\\anaconda3-researchproject\\Scripts\\activate.bat\n",
    "conda info --envs\n",
    "conda activate pizza\n",
    "python one_hot.py"
   ]
  },
  {
   "cell_type": "code",
   "execution_count": null,
   "id": "5cb26b4b-3a74-490a-ad0a-1c82feb92246",
   "metadata": {},
   "outputs": [],
   "source": [
    "# Run demo"
   ]
  },
  {
   "cell_type": "code",
   "execution_count": null,
   "id": "9574d922-41db-429f-9cfa-d01dcdfc47f3",
   "metadata": {
    "scrolled": true
   },
   "outputs": [],
   "source": [
    "%%cmd\n",
    "%windir%\\System32\\cmd.exe \"/K\" C:\\Users\\alber\\anaconda3-researchproject\\Scripts\\activate.bat\n",
    "conda activate pizza\n",
    "cd high-level-context-representation\n",
    "python demo.py"
   ]
  },
  {
   "cell_type": "code",
   "execution_count": null,
   "id": "4889957f-505d-4b42-b1e6-b35aac1f809a",
   "metadata": {},
   "outputs": [],
   "source": [
    "# Evaluate performance"
   ]
  },
  {
   "cell_type": "code",
   "execution_count": null,
   "id": "50dc33b2-ece7-4364-8799-81aa07b64c1a",
   "metadata": {
    "scrolled": true
   },
   "outputs": [],
   "source": [
    "%%cmd\n",
    "%windir%\\System32\\cmd.exe \"/K\" C:\\Users\\alber\\anaconda3-researchproject\\Scripts\\activate.bat\n",
    "conda activate pizza\n",
    "cd high-level-context-representation\n",
    "python evaluate.py"
   ]
  },
  {
   "cell_type": "code",
   "execution_count": null,
   "id": "0628b7d8-bd8b-4cd5-90a2-4929279ee6b4",
   "metadata": {},
   "outputs": [],
   "source": [
    "# Generate annotations with new implementation"
   ]
  },
  {
   "cell_type": "code",
   "execution_count": null,
   "id": "407ed87d-0e97-4b03-85d9-f5e24693fdf0",
   "metadata": {},
   "outputs": [],
   "source": [
    "%%cmd\n",
    "%windir%\\System32\\cmd.exe \"/K\" C:\\Users\\alber\\anaconda3-researchproject\\Scripts\\activate.bat\n",
    "conda activate pizza\n",
    "cd backup\n",
    "python generate_dataset_annotations.py"
   ]
  },
  {
   "cell_type": "code",
   "execution_count": null,
   "id": "4b08f36d-86b4-4abb-ace4-7982e000ba2b",
   "metadata": {},
   "outputs": [],
   "source": [
    "# Generate matrices with new implementation"
   ]
  },
  {
   "cell_type": "code",
   "execution_count": null,
   "id": "563a1db7-63f9-4018-a7a8-074dc7c76ed7",
   "metadata": {},
   "outputs": [],
   "source": [
    "%%cmd\n",
    "%windir%\\System32\\cmd.exe \"/K\" C:\\Users\\alber\\anaconda3-researchproject\\Scripts\\activate.bat\n",
    "conda activate pizza\n",
    "cd backup\n",
    "python generate_co_occurrences_matrices.py"
   ]
  },
  {
   "cell_type": "code",
   "execution_count": null,
   "id": "dc5a03e8-0cb7-4a59-a31b-7cbc4159c5fa",
   "metadata": {},
   "outputs": [],
   "source": [
    "# Generate graphs with new implementation"
   ]
  },
  {
   "cell_type": "code",
   "execution_count": null,
   "id": "38c23969-e4e2-48b9-9f42-dfd8513ba052",
   "metadata": {},
   "outputs": [],
   "source": [
    "%%cmd\n",
    "%windir%\\System32\\cmd.exe \"/K\" C:\\Users\\alber\\anaconda3-researchproject\\Scripts\\activate.bat\n",
    "conda activate pizza\n",
    "cd backup\n",
    "python generate_graphs_to_disk.py"
   ]
  },
  {
   "cell_type": "code",
   "execution_count": null,
   "id": "4b29aa69-f218-4574-b144-bd70386c5047",
   "metadata": {},
   "outputs": [],
   "source": [
    "#Fix filenames after balancing\n",
    "\n",
    "import cv2\n",
    "import glob\n",
    "import os\n",
    "\n",
    "home_path = \"C:/dev/valberts/Crime-Recognition-from-Context-Representation/dataset\"\n",
    "videos_path = \"C:/dev/valberts/Crime-Recognition-from-Context-Representation/dataset/UCF_Videos_balanced\"\n",
    "folders = glob.glob(f\"{videos_path}/*\")\n",
    "categories = []\n",
    "\n",
    "for f in folders:\n",
    "    categories.append(f.split(\"\\\\\")[1])\n",
    "    \n",
    "for cat in categories:\n",
    "    count = 0\n",
    "    new_name = 100\n",
    "    videos = glob.glob(f\"{videos_path}/{cat}/*\")\n",
    "    num_videos = len(videos)\n",
    "    print(cat, \" \", num_videos)\n",
    "    for vid in videos:\n",
    "        vid_name = ((vid.split(\"\\\\\")[1]).split(\".\")[0])\n",
    "        if \"Copy\" in vid:\n",
    "            path = vid.split(\"\\\\\")[0]\n",
    "            os.rename(vid, os.path.join(path, f\"{cat}{str(new_name + count).zfill(3)}_x264.mp4\"))\n",
    "            count += 1\n",
    "        \n",
    "print(\"[COMPLETE]\")"
   ]
  },
  {
   "cell_type": "code",
   "execution_count": null,
   "id": "4f579107-cba9-4c63-8494-1caddde773ef",
   "metadata": {},
   "outputs": [],
   "source": []
  }
 ],
 "metadata": {
  "kernelspec": {
   "display_name": "Python 3 (ipykernel)",
   "language": "python",
   "name": "python3"
  },
  "language_info": {
   "codemirror_mode": {
    "name": "ipython",
    "version": 3
   },
   "file_extension": ".py",
   "mimetype": "text/x-python",
   "name": "python",
   "nbconvert_exporter": "python",
   "pygments_lexer": "ipython3",
   "version": "3.10.10"
  }
 },
 "nbformat": 4,
 "nbformat_minor": 5
}
