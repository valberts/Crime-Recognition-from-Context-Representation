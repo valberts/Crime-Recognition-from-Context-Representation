{
 "cells": [
  {
   "cell_type": "code",
   "execution_count": 10,
   "id": "caf85373-0753-4ad2-8a05-75a9c82c325b",
   "metadata": {},
   "outputs": [],
   "source": [
    "# Extracting frames from a video\n",
    "\n",
    "import cv2\n",
    "\n",
    "vidcap = cv2.VideoCapture(\"ExpansionNet_v2-master/UCF_Videos/Vandalism/Vandalism008_x264.mp4\")\n",
    "total_frames = vidcap.get(cv2.CAP_PROP_FRAME_COUNT)\n",
    "desired_frames = 50\n",
    "frames_step = total_frames//desired_frames\n",
    "for i in range(desired_frames):\n",
    "    vidcap.set(1, i*frames_step)\n",
    "    success,image = vidcap.read()\n",
    "    cv2.imwrite(f\"ExpansionNet_v2-master/UCF_Videos/frames/out_{str(i).zfill(2)}.png\",image)\n",
    "vidcap.release()"
   ]
  },
  {
   "cell_type": "code",
   "execution_count": null,
   "id": "ff36a4c7-5515-4cc4-85fa-06cff159870b",
   "metadata": {},
   "outputs": [],
   "source": [
    "# This extracts captions from 10 frames of the video"
   ]
  },
  {
   "cell_type": "code",
   "execution_count": null,
   "id": "9071f074-4ad9-4bb3-8cbb-2557a48289e5",
   "metadata": {},
   "outputs": [],
   "source": [
    "%%cmd\n",
    "%windir%\\System32\\cmd.exe \"/K\" C:\\Users\\alber\\anaconda3-researchproject\\Scripts\\activate.bat\n",
    "conda info --envs\n",
    "conda activate pizza\n",
    "cd ExpansionNet_v2-master\n",
    "python demo_write.py --load_path github_ignore_material/rf_model-003.pth --image_paths UCF_Videos/frames/out_0.png UCF_Videos/frames/out_1.png UCF_Videos/frames/out_2.png UCF_Videos/frames/out_3.png UCF_Videos/frames/out_4.png UCF_Videos/frames/out_5.png UCF_Videos/frames/out_6.png UCF_Videos/frames/out_7.png UCF_Videos/frames/out_8.png UCF_Videos/frames/out_9.png"
   ]
  },
  {
   "cell_type": "code",
   "execution_count": null,
   "id": "99f3d5fe-08bc-4289-8253-5ebaf08ed15c",
   "metadata": {},
   "outputs": [],
   "source": [
    "# This extracts captions from n frames of the video, with n being the number of files in the frames directory"
   ]
  },
  {
   "cell_type": "code",
   "execution_count": null,
   "id": "a01f0c8c-25dd-484e-af74-d230e767d21d",
   "metadata": {},
   "outputs": [],
   "source": [
    "%%cmd\n",
    "%windir%\\System32\\cmd.exe \"/K\" C:\\Users\\alber\\anaconda3-researchproject\\Scripts\\activate.bat\n",
    "conda info --envs\n",
    "conda activate pizza\n",
    "cd ExpansionNet_v2-master\n",
    "python demo_multi.py --load_path github_ignore_material/rf_model-003.pth "
   ]
  },
  {
   "cell_type": "code",
   "execution_count": 21,
   "id": "a8b38036-dbd1-4e2c-9f8c-eab569e19078",
   "metadata": {},
   "outputs": [
    {
     "name": "stdout",
     "output_type": "stream",
     "text": [
      "Abuse001\n",
      "Abuse002\n",
      "Abuse003\n",
      "Abuse004\n",
      "Abuse005\n",
      "Abuse006\n",
      "Abuse007\n",
      "Abuse008\n",
      "Abuse009\n",
      "Abuse010\n",
      "Abuse011\n",
      "Abuse012\n",
      "Abuse013\n",
      "Abuse014\n",
      "Abuse015\n",
      "Abuse016\n",
      "Abuse017\n",
      "Abuse018\n",
      "Abuse019\n",
      "Abuse020\n",
      "Abuse021\n",
      "Abuse022\n",
      "Abuse023\n",
      "Abuse024\n",
      "Abuse025\n",
      "Abuse026\n",
      "Abuse027\n",
      "Abuse028\n",
      "Abuse029\n",
      "Abuse030\n",
      "Abuse031\n",
      "Abuse032\n",
      "Abuse033\n",
      "Abuse034\n",
      "Abuse035\n",
      "Abuse036\n",
      "Abuse037\n",
      "Abuse038\n",
      "Abuse039\n",
      "Abuse040\n",
      "Abuse041\n",
      "Abuse042\n",
      "Abuse043\n",
      "Abuse044\n",
      "Abuse045\n",
      "Abuse046\n",
      "Abuse047\n",
      "Abuse048\n",
      "Abuse049\n",
      "Abuse050\n"
     ]
    },
    {
     "ename": "FileNotFoundError",
     "evalue": "[WinError 3] The system cannot find the path specified: 'ExpansionNet_v2-master/video_frames/Arrest/Arrest001'",
     "output_type": "error",
     "traceback": [
      "\u001b[1;31m---------------------------------------------------------------------------\u001b[0m",
      "\u001b[1;31mFileNotFoundError\u001b[0m                         Traceback (most recent call last)",
      "Cell \u001b[1;32mIn[21], line 26\u001b[0m\n\u001b[0;32m     24\u001b[0m \u001b[38;5;28;01mfor\u001b[39;00m vid \u001b[38;5;129;01min\u001b[39;00m videos:\n\u001b[0;32m     25\u001b[0m     vid_name \u001b[38;5;241m=\u001b[39m ((vid\u001b[38;5;241m.\u001b[39msplit(\u001b[38;5;124m\"\u001b[39m\u001b[38;5;130;01m\\\\\u001b[39;00m\u001b[38;5;124m\"\u001b[39m)[\u001b[38;5;241m1\u001b[39m])\u001b[38;5;241m.\u001b[39msplit(\u001b[38;5;124m\"\u001b[39m\u001b[38;5;124m.\u001b[39m\u001b[38;5;124m\"\u001b[39m)[\u001b[38;5;241m0\u001b[39m])\u001b[38;5;241m.\u001b[39msplit(\u001b[38;5;124m\"\u001b[39m\u001b[38;5;124m_\u001b[39m\u001b[38;5;124m\"\u001b[39m)[\u001b[38;5;241m0\u001b[39m]\n\u001b[1;32m---> 26\u001b[0m     \u001b[43mos\u001b[49m\u001b[38;5;241;43m.\u001b[39;49m\u001b[43mmkdir\u001b[49m\u001b[43m(\u001b[49m\u001b[38;5;124;43mf\u001b[39;49m\u001b[38;5;124;43m\"\u001b[39;49m\u001b[38;5;124;43mExpansionNet_v2-master/video_frames/\u001b[39;49m\u001b[38;5;132;43;01m{\u001b[39;49;00m\u001b[43mcat\u001b[49m\u001b[38;5;132;43;01m}\u001b[39;49;00m\u001b[38;5;124;43m/\u001b[39;49m\u001b[38;5;132;43;01m{\u001b[39;49;00m\u001b[43mvid_name\u001b[49m\u001b[38;5;132;43;01m}\u001b[39;49;00m\u001b[38;5;124;43m\"\u001b[39;49m\u001b[43m)\u001b[49m\n\u001b[0;32m     27\u001b[0m     vidcap \u001b[38;5;241m=\u001b[39m cv2\u001b[38;5;241m.\u001b[39mVideoCapture(vid)\n\u001b[0;32m     28\u001b[0m     total_frames \u001b[38;5;241m=\u001b[39m vidcap\u001b[38;5;241m.\u001b[39mget(cv2\u001b[38;5;241m.\u001b[39mCAP_PROP_FRAME_COUNT)\n",
      "\u001b[1;31mFileNotFoundError\u001b[0m: [WinError 3] The system cannot find the path specified: 'ExpansionNet_v2-master/video_frames/Arrest/Arrest001'"
     ]
    }
   ],
   "source": [
    "# Extracting frames from a video\n",
    "\n",
    "import cv2\n",
    "import glob\n",
    "import os\n",
    "\n",
    "home_path = \"C:/dev/valberts/Crime-Recognition-from-Context-Representation/ExpansionNet_v2-master/\"\n",
    "videos_path = \"C:/dev/valberts/Crime-Recognition-from-Context-Representation/ExpansionNet_v2-master/UCF_Videos/\"\n",
    "folders = glob.glob(f\"{videos_path}/*\")\n",
    "categories = []\n",
    "\n",
    "for f in folders:\n",
    "    categories.append(f.split(\"\\\\\")[1])\n",
    "\n",
    "os.mkdir(\"ExpansionNet_v2-master/video_frames\")\n",
    "\n",
    "for cat in categories:\n",
    "    os.mkdir(f\"ExpansionNet_v2-master/video_frames/{cat}\")\n",
    "    videos = glob.glob(f\"{path}{cat}/*\")\n",
    "    for vid in videos:\n",
    "        vid_name = ((vid.split(\"\\\\\")[1]).split(\".\")[0]).split(\"_\")[0]\n",
    "        os.mkdir(f\"ExpansionNet_v2-master/video_frames/{cat}/{vid_name}\")\n",
    "        vidcap = cv2.VideoCapture(vid)\n",
    "        total_frames = vidcap.get(cv2.CAP_PROP_FRAME_COUNT)\n",
    "        desired_frames = 10\n",
    "        frames_step = total_frames//desired_frames\n",
    "        print(vid_name)\n",
    "        \n",
    "        for i in range(desired_frames):\n",
    "            vidcap.set(1, i*frames_step)\n",
    "            success,image = vidcap.read()\n",
    "            #here categories[0] is a placeholder\n",
    "            cv2.imwrite(f\"ExpansionNet_v2-master/video_frames/{cat}/{vid_name}/{cat}_{i}.png\",image)\n",
    "        vidcap.release()"
   ]
  },
  {
   "cell_type": "code",
   "execution_count": null,
   "id": "c043035f-5f76-40bd-ad46-b7c6e92035a5",
   "metadata": {},
   "outputs": [],
   "source": []
  },
  {
   "cell_type": "code",
   "execution_count": null,
   "id": "73995a5f-5244-49d2-9943-72e0642190dd",
   "metadata": {},
   "outputs": [],
   "source": []
  }
 ],
 "metadata": {
  "kernelspec": {
   "display_name": "Python 3 (ipykernel)",
   "language": "python",
   "name": "python3"
  },
  "language_info": {
   "codemirror_mode": {
    "name": "ipython",
    "version": 3
   },
   "file_extension": ".py",
   "mimetype": "text/x-python",
   "name": "python",
   "nbconvert_exporter": "python",
   "pygments_lexer": "ipython3",
   "version": "3.10.10"
  }
 },
 "nbformat": 4,
 "nbformat_minor": 5
}
