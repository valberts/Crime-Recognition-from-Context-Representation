{
 "cells": [
  {
   "cell_type": "code",
   "execution_count": null,
   "id": "42ff0cf2-af60-487f-ad47-8dc0e5b6c9ee",
   "metadata": {},
   "outputs": [],
   "source": [
    "# RUN DEMO"
   ]
  },
  {
   "cell_type": "code",
   "execution_count": 29,
   "id": "ad0624e7-0def-47d6-bb4c-e7fabf9e5bd3",
   "metadata": {},
   "outputs": [
    {
     "name": "stdout",
     "output_type": "stream",
     "text": [
      "Microsoft Windows [Version 10.0.19045.2965]\n",
      "(c) Microsoft Corporation. All rights reserved.\n",
      "\n",
      "C:\\dev\\valberts\\Crime-Recognition-from-Context-Representation>%windir%\\System32\\cmd.exe \"/K\" C:\\Users\\alber\\anaconda3-researchproject\\Scripts\\activate.bat\n",
      "\n",
      "(base) C:\\dev\\valberts\\Crime-Recognition-from-Context-Representation>conda info --envs\n",
      "# conda environments:\n",
      "#\n",
      "base                  *  C:\\Users\\alber\\anaconda3-researchproject\n",
      "crime-recognition        C:\\Users\\alber\\anaconda3-researchproject\\envs\\crime-recognition\n",
      "pizza                    C:\\Users\\alber\\anaconda3-researchproject\\envs\\pizza\n",
      "vincent                  C:\\Users\\alber\\anaconda3-researchproject\\envs\\vincent\n",
      "\n",
      "\n",
      "(base) C:\\dev\\valberts\\Crime-Recognition-from-Context-Representation>conda activate pizza\n",
      "\n",
      "(pizza) C:\\dev\\valberts\\Crime-Recognition-from-Context-Representation>cd ExpansionNet_v2-master\n",
      "\n",
      "(pizza) C:\\dev\\valberts\\Crime-Recognition-from-Context-Representation\\ExpansionNet_v2-master>python demo.py --load_path github_ignore_material/rf_model-003.pth --image_paths demo_material/cat_girl.jpg\n"
     ]
    },
    {
     "name": "stderr",
     "output_type": "stream",
     "text": [
      "C:\\Users\\alber\\anaconda3-researchproject\\envs\\pizza\\lib\\site-packages\\torch\\functional.py:568: UserWarning: torch.meshgrid: in an upcoming release, it will be required to pass the indexing argument. (Triggered internally at  C:\\cb\\pytorch_1000000000000\\work\\aten\\src\\ATen\\native\\TensorShape.cpp:2228.)\n",
      "  return _VF.meshgrid(tensors, **kwargs)  # type: ignore[attr-defined]\n",
      "C:\\dev\\valberts\\Crime-Recognition-from-Context-Representation\\ExpansionNet_v2-master\\models\\captioning_model.py:190: UserWarning: __floordiv__ is deprecated, and its behavior will change in a future version of pytorch. It currently rounds toward 0 (like the 'trunc' function NOT 'floor'). This results in incorrect rounding for negative values. To keep the current behavior, use torch.div(a, b, rounding_mode='trunc'), or for actual floor division, use torch.div(a, b, rounding_mode='floor').\n",
      "  which_sequence = topi // beam_size\n"
     ]
    },
    {
     "name": "stdout",
     "output_type": "stream",
     "text": [
      "Dictionary loaded ...\n",
      "Model loaded ...\n",
      "Generating captions ...\n",
      "\n",
      "demo_material/cat_girl.jpg) \n",
      "\tDescription: A woman wearing a hat and a cat.\n",
      "\n",
      "Closed.\n",
      "\n",
      "(pizza) C:\\dev\\valberts\\Crime-Recognition-from-Context-Representation\\ExpansionNet_v2-master>\n",
      "C:\\dev\\valberts\\Crime-Recognition-from-Context-Representation>"
     ]
    }
   ],
   "source": [
    "%%cmd\n",
    "%windir%\\System32\\cmd.exe \"/K\" C:\\Users\\alber\\anaconda3-researchproject\\Scripts\\activate.bat\n",
    "conda info --envs\n",
    "conda activate pizza\n",
    "cd ExpansionNet_v2-master\n",
    "python demo.py --load_path github_ignore_material/rf_model-003.pth --image_paths demo_material/cat_girl.jpg"
   ]
  },
  {
   "cell_type": "code",
   "execution_count": 3,
   "id": "caf85373-0753-4ad2-8a05-75a9c82c325b",
   "metadata": {},
   "outputs": [],
   "source": [
    "# Extracting frames from a video\n",
    "\n",
    "import cv2\n",
    "\n",
    "vidcap = cv2.VideoCapture(\"ExpansionNet_v2-master/UCF_Videos/Vandalism/Vandalism008_x264.mp4\")\n",
    "total_frames = vidcap.get(cv2.CAP_PROP_FRAME_COUNT)\n",
    "desired_frames = 50\n",
    "frames_step = total_frames//desired_frames\n",
    "for i in range(desired_frames):\n",
    "    vidcap.set(1, i*frames_step)\n",
    "    success,image = vidcap.read()\n",
    "    cv2.imwrite(f\"ExpansionNet_v2-master/UCF_Videos/frames/out_{i}.png\",image)\n",
    "vidcap.release()"
   ]
  },
  {
   "cell_type": "code",
   "execution_count": 4,
   "id": "9071f074-4ad9-4bb3-8cbb-2557a48289e5",
   "metadata": {},
   "outputs": [
    {
     "name": "stdout",
     "output_type": "stream",
     "text": [
      "Microsoft Windows [Version 10.0.19045.2965]\n",
      "(c) Microsoft Corporation. All rights reserved.\n",
      "\n",
      "C:\\dev\\valberts\\Crime-Recognition-from-Context-Representation>%windir%\\System32\\cmd.exe \"/K\" C:\\Users\\alber\\anaconda3-researchproject\\Scripts\\activate.bat\n",
      "\n",
      "(base) C:\\dev\\valberts\\Crime-Recognition-from-Context-Representation>conda info --envs\n",
      "# conda environments:\n",
      "#\n",
      "base                  *  C:\\Users\\alber\\anaconda3-researchproject\n",
      "crime-recognition        C:\\Users\\alber\\anaconda3-researchproject\\envs\\crime-recognition\n",
      "pizza                    C:\\Users\\alber\\anaconda3-researchproject\\envs\\pizza\n",
      "vincent                  C:\\Users\\alber\\anaconda3-researchproject\\envs\\vincent\n",
      "\n",
      "\n",
      "(base) C:\\dev\\valberts\\Crime-Recognition-from-Context-Representation>conda activate pizza\n",
      "\n",
      "(pizza) C:\\dev\\valberts\\Crime-Recognition-from-Context-Representation>cd ExpansionNet_v2-master\n",
      "\n",
      "(pizza) C:\\dev\\valberts\\Crime-Recognition-from-Context-Representation\\ExpansionNet_v2-master>python demo_write.py --load_path github_ignore_material/rf_model-003.pth --image_paths UCF_Videos/frames/out_0.png UCF_Videos/frames/out_1.png UCF_Videos/frames/out_2.png UCF_Videos/frames/out_3.png UCF_Videos/frames/out_4.png UCF_Videos/frames/out_5.png UCF_Videos/frames/out_6.png UCF_Videos/frames/out_7.png UCF_Videos/frames/out_8.png UCF_Videos/frames/out_9.png\n"
     ]
    },
    {
     "name": "stderr",
     "output_type": "stream",
     "text": [
      "C:\\Users\\alber\\anaconda3-researchproject\\envs\\pizza\\lib\\site-packages\\torch\\functional.py:568: UserWarning: torch.meshgrid: in an upcoming release, it will be required to pass the indexing argument. (Triggered internally at  C:\\cb\\pytorch_1000000000000\\work\\aten\\src\\ATen\\native\\TensorShape.cpp:2228.)\n",
      "  return _VF.meshgrid(tensors, **kwargs)  # type: ignore[attr-defined]\n",
      "C:\\dev\\valberts\\Crime-Recognition-from-Context-Representation\\ExpansionNet_v2-master\\models\\captioning_model.py:190: UserWarning: __floordiv__ is deprecated, and its behavior will change in a future version of pytorch. It currently rounds toward 0 (like the 'trunc' function NOT 'floor'). This results in incorrect rounding for negative values. To keep the current behavior, use torch.div(a, b, rounding_mode='trunc'), or for actual floor division, use torch.div(a, b, rounding_mode='floor').\n",
      "  which_sequence = topi // beam_size\n"
     ]
    },
    {
     "name": "stdout",
     "output_type": "stream",
     "text": [
      "Dictionary loaded ...\n",
      "Model loaded ...\n",
      "Generating captions ...\n",
      "\n",
      "UCF_Videos/frames/out_0.png) \n",
      "\tDescription: A person walking in a store front of a store.\n",
      "\n",
      "UCF_Videos/frames/out_1.png) \n",
      "\tDescription: A young boy walking in a store.\n",
      "\n",
      "UCF_Videos/frames/out_2.png) \n",
      "\tDescription: A person standing in a store.\n",
      "\n",
      "UCF_Videos/frames/out_3.png) \n",
      "\tDescription: A person walking in a store.\n",
      "\n",
      "UCF_Videos/frames/out_4.png) \n",
      "\tDescription: A person walking in a store.\n",
      "\n",
      "UCF_Videos/frames/out_5.png) \n",
      "\tDescription: A group of people standing in a store.\n",
      "\n",
      "UCF_Videos/frames/out_6.png) \n",
      "\tDescription: Two people standing in a store.\n",
      "\n",
      "UCF_Videos/frames/out_7.png) \n",
      "\tDescription: A person standing at a store.\n",
      "\n",
      "UCF_Videos/frames/out_8.png) \n",
      "\tDescription: A person standing in a store.\n",
      "\n",
      "UCF_Videos/frames/out_9.png) \n",
      "\tDescription: A store with a table in the front of it.\n",
      "\n",
      "Closed.\n",
      "\n",
      "(pizza) C:\\dev\\valberts\\Crime-Recognition-from-Context-Representation\\ExpansionNet_v2-master>\n",
      "C:\\dev\\valberts\\Crime-Recognition-from-Context-Representation>"
     ]
    }
   ],
   "source": [
    "%%cmd\n",
    "%windir%\\System32\\cmd.exe \"/K\" C:\\Users\\alber\\anaconda3-researchproject\\Scripts\\activate.bat\n",
    "conda info --envs\n",
    "conda activate pizza\n",
    "cd ExpansionNet_v2-master\n",
    "python demo_write.py --load_path github_ignore_material/rf_model-003.pth --image_paths UCF_Videos/frames/out_0.png UCF_Videos/frames/out_1.png UCF_Videos/frames/out_2.png UCF_Videos/frames/out_3.png UCF_Videos/frames/out_4.png UCF_Videos/frames/out_5.png UCF_Videos/frames/out_6.png UCF_Videos/frames/out_7.png UCF_Videos/frames/out_8.png UCF_Videos/frames/out_9.png"
   ]
  },
  {
   "cell_type": "code",
   "execution_count": 5,
   "id": "a01f0c8c-25dd-484e-af74-d230e767d21d",
   "metadata": {},
   "outputs": [
    {
     "name": "stdout",
     "output_type": "stream",
     "text": [
      "Microsoft Windows [Version 10.0.19045.2965]\n",
      "(c) Microsoft Corporation. All rights reserved.\n",
      "\n",
      "C:\\dev\\valberts\\Crime-Recognition-from-Context-Representation>%windir%\\System32\\cmd.exe \"/K\" C:\\Users\\alber\\anaconda3-researchproject\\Scripts\\activate.bat\n",
      "\n",
      "(base) C:\\dev\\valberts\\Crime-Recognition-from-Context-Representation>conda info --envs\n",
      "# conda environments:\n",
      "#\n",
      "base                  *  C:\\Users\\alber\\anaconda3-researchproject\n",
      "crime-recognition        C:\\Users\\alber\\anaconda3-researchproject\\envs\\crime-recognition\n",
      "pizza                    C:\\Users\\alber\\anaconda3-researchproject\\envs\\pizza\n",
      "vincent                  C:\\Users\\alber\\anaconda3-researchproject\\envs\\vincent\n",
      "\n",
      "\n",
      "(base) C:\\dev\\valberts\\Crime-Recognition-from-Context-Representation>conda activate pizza\n",
      "\n",
      "(pizza) C:\\dev\\valberts\\Crime-Recognition-from-Context-Representation>cd ExpansionNet_v2-master\n",
      "\n",
      "(pizza) C:\\dev\\valberts\\Crime-Recognition-from-Context-Representation\\ExpansionNet_v2-master>python demo_multi.py --load_path github_ignore_material/rf_model-003.pth \n"
     ]
    },
    {
     "name": "stderr",
     "output_type": "stream",
     "text": [
      "C:\\Users\\alber\\anaconda3-researchproject\\envs\\pizza\\lib\\site-packages\\torch\\functional.py:568: UserWarning: torch.meshgrid: in an upcoming release, it will be required to pass the indexing argument. (Triggered internally at  C:\\cb\\pytorch_1000000000000\\work\\aten\\src\\ATen\\native\\TensorShape.cpp:2228.)\n",
      "  return _VF.meshgrid(tensors, **kwargs)  # type: ignore[attr-defined]\n",
      "C:\\dev\\valberts\\Crime-Recognition-from-Context-Representation\\ExpansionNet_v2-master\\models\\captioning_model.py:190: UserWarning: __floordiv__ is deprecated, and its behavior will change in a future version of pytorch. It currently rounds toward 0 (like the 'trunc' function NOT 'floor'). This results in incorrect rounding for negative values. To keep the current behavior, use torch.div(a, b, rounding_mode='trunc'), or for actual floor division, use torch.div(a, b, rounding_mode='floor').\n",
      "  which_sequence = topi // beam_size\n"
     ]
    },
    {
     "name": "stdout",
     "output_type": "stream",
     "text": [
      "Dictionary loaded ...\n",
      "Model loaded ...\n",
      "Generating captions ...\n",
      "\n",
      "C:/dev/valberts/Crime-Recognition-from-Context-Representation/ExpansionNet_v2-master/UCF_Videos/frames\\out_0.png) \n",
      "\tDescription: A person walking in a store front of a store.\n",
      "\n",
      "C:/dev/valberts/Crime-Recognition-from-Context-Representation/ExpansionNet_v2-master/UCF_Videos/frames\\out_1.png) \n",
      "\tDescription: A young boy walking in a store.\n",
      "\n",
      "C:/dev/valberts/Crime-Recognition-from-Context-Representation/ExpansionNet_v2-master/UCF_Videos/frames\\out_2.png) \n",
      "\tDescription: A person standing in a store.\n",
      "\n",
      "C:/dev/valberts/Crime-Recognition-from-Context-Representation/ExpansionNet_v2-master/UCF_Videos/frames\\out_3.png) \n",
      "\tDescription: A person walking in a store.\n",
      "\n",
      "C:/dev/valberts/Crime-Recognition-from-Context-Representation/ExpansionNet_v2-master/UCF_Videos/frames\\out_4.png) \n",
      "\tDescription: A person walking in a store.\n",
      "\n",
      "C:/dev/valberts/Crime-Recognition-from-Context-Representation/ExpansionNet_v2-master/UCF_Videos/frames\\out_5.png) \n",
      "\tDescription: A group of people standing in a store.\n",
      "\n",
      "C:/dev/valberts/Crime-Recognition-from-Context-Representation/ExpansionNet_v2-master/UCF_Videos/frames\\out_6.png) \n",
      "\tDescription: Two people standing in a store.\n",
      "\n",
      "C:/dev/valberts/Crime-Recognition-from-Context-Representation/ExpansionNet_v2-master/UCF_Videos/frames\\out_7.png) \n",
      "\tDescription: A person standing at a store.\n",
      "\n",
      "C:/dev/valberts/Crime-Recognition-from-Context-Representation/ExpansionNet_v2-master/UCF_Videos/frames\\out_8.png) \n",
      "\tDescription: A person standing in a store.\n",
      "\n",
      "C:/dev/valberts/Crime-Recognition-from-Context-Representation/ExpansionNet_v2-master/UCF_Videos/frames\\out_9.png) \n",
      "\tDescription: A store with a table in the front of it.\n",
      "\n",
      "Closed.\n",
      "\n",
      "(pizza) C:\\dev\\valberts\\Crime-Recognition-from-Context-Representation\\ExpansionNet_v2-master>\n",
      "C:\\dev\\valberts\\Crime-Recognition-from-Context-Representation>"
     ]
    }
   ],
   "source": [
    "%%cmd\n",
    "%windir%\\System32\\cmd.exe \"/K\" C:\\Users\\alber\\anaconda3-researchproject\\Scripts\\activate.bat\n",
    "conda info --envs\n",
    "conda activate pizza\n",
    "cd ExpansionNet_v2-master\n",
    "python demo_multi.py --load_path github_ignore_material/rf_model-003.pth "
   ]
  },
  {
   "cell_type": "code",
   "execution_count": null,
   "id": "cf854774-95a1-4363-9adf-fa8682f60082",
   "metadata": {},
   "outputs": [],
   "source": []
  }
 ],
 "metadata": {
  "kernelspec": {
   "display_name": "Python 3 (ipykernel)",
   "language": "python",
   "name": "python3"
  },
  "language_info": {
   "codemirror_mode": {
    "name": "ipython",
    "version": 3
   },
   "file_extension": ".py",
   "mimetype": "text/x-python",
   "name": "python",
   "nbconvert_exporter": "python",
   "pygments_lexer": "ipython3",
   "version": "3.10.10"
  }
 },
 "nbformat": 4,
 "nbformat_minor": 5
}
