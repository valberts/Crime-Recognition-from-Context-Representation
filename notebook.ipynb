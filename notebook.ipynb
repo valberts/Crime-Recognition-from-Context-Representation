{
 "cells": [
  {
   "cell_type": "code",
   "execution_count": 10,
   "id": "caf85373-0753-4ad2-8a05-75a9c82c325b",
   "metadata": {},
   "outputs": [],
   "source": [
    "# Extracting frames from a video\n",
    "\n",
    "import cv2\n",
    "\n",
    "vidcap = cv2.VideoCapture(\"ExpansionNet_v2-master/UCF_Videos/Vandalism/Vandalism008_x264.mp4\")\n",
    "total_frames = vidcap.get(cv2.CAP_PROP_FRAME_COUNT)\n",
    "desired_frames = 50\n",
    "frames_step = total_frames//desired_frames\n",
    "for i in range(desired_frames):\n",
    "    vidcap.set(1, i*frames_step)\n",
    "    success,image = vidcap.read()\n",
    "    cv2.imwrite(f\"ExpansionNet_v2-master/UCF_Videos/frames/out_{str(i).zfill(2)}.png\",image)\n",
    "vidcap.release()"
   ]
  },
  {
   "cell_type": "code",
   "execution_count": null,
   "id": "ff36a4c7-5515-4cc4-85fa-06cff159870b",
   "metadata": {},
   "outputs": [],
   "source": [
    "# This extracts captions from 10 frames of the video"
   ]
  },
  {
   "cell_type": "code",
   "execution_count": null,
   "id": "9071f074-4ad9-4bb3-8cbb-2557a48289e5",
   "metadata": {},
   "outputs": [],
   "source": [
    "%%cmd\n",
    "%windir%\\System32\\cmd.exe \"/K\" C:\\Users\\alber\\anaconda3-researchproject\\Scripts\\activate.bat\n",
    "conda info --envs\n",
    "conda activate pizza\n",
    "cd ExpansionNet_v2-master\n",
    "python demo_write.py --load_path github_ignore_material/rf_model-003.pth --image_paths UCF_Videos/frames/out_0.png UCF_Videos/frames/out_1.png UCF_Videos/frames/out_2.png UCF_Videos/frames/out_3.png UCF_Videos/frames/out_4.png UCF_Videos/frames/out_5.png UCF_Videos/frames/out_6.png UCF_Videos/frames/out_7.png UCF_Videos/frames/out_8.png UCF_Videos/frames/out_9.png"
   ]
  },
  {
   "cell_type": "code",
   "execution_count": null,
   "id": "99f3d5fe-08bc-4289-8253-5ebaf08ed15c",
   "metadata": {},
   "outputs": [],
   "source": [
    "# This extracts captions from n frames of the video, with n being the number of files in the frames directory"
   ]
  },
  {
   "cell_type": "code",
   "execution_count": null,
   "id": "a01f0c8c-25dd-484e-af74-d230e767d21d",
   "metadata": {},
   "outputs": [],
   "source": [
    "%%cmd\n",
    "%windir%\\System32\\cmd.exe \"/K\" C:\\Users\\alber\\anaconda3-researchproject\\Scripts\\activate.bat\n",
    "conda info --envs\n",
    "conda activate pizza\n",
    "cd ExpansionNet_v2-master\n",
    "python demo_multi.py --load_path github_ignore_material/rf_model-003.pth "
   ]
  },
  {
   "cell_type": "code",
   "execution_count": null,
   "id": "a8b38036-dbd1-4e2c-9f8c-eab569e19078",
   "metadata": {},
   "outputs": [],
   "source": [
    "# Extracting frames from videos\n",
    "\n",
    "import cv2\n",
    "import glob\n",
    "import os\n",
    "\n",
    "home_path = \"C:/dev/valberts/Crime-Recognition-from-Context-Representation/ExpansionNet_v2-master/\"\n",
    "videos_path = \"C:/dev/valberts/Crime-Recognition-from-Context-Representation/ExpansionNet_v2-master/UCF_Videos/\"\n",
    "folders = glob.glob(f\"{videos_path}/*\")\n",
    "categories = []\n",
    "\n",
    "for f in folders:\n",
    "    categories.append(f.split(\"\\\\\")[1])\n",
    "\n",
    "os.mkdir(\"ExpansionNet_v2-master/video_frames\")\n",
    "\n",
    "for cat in categories:\n",
    "    os.mkdir(f\"ExpansionNet_v2-master/video_frames/{cat}\")\n",
    "    videos = glob.glob(f\"{path}{cat}/*\")\n",
    "    for vid in videos:\n",
    "        vid_name = ((vid.split(\"\\\\\")[1]).split(\".\")[0]).split(\"_\")[0]\n",
    "        os.mkdir(f\"ExpansionNet_v2-master/video_frames/{cat}/{vid_name}\")\n",
    "        vidcap = cv2.VideoCapture(vid)\n",
    "        total_frames = vidcap.get(cv2.CAP_PROP_FRAME_COUNT)\n",
    "        desired_frames = 10\n",
    "        frames_step = total_frames//desired_frames\n",
    "        print(vid_name)\n",
    "        \n",
    "        for i in range(desired_frames):\n",
    "            vidcap.set(1, i*frames_step)\n",
    "            success,image = vidcap.read()\n",
    "            #here categories[0] is a placeholder\n",
    "            cv2.imwrite(f\"ExpansionNet_v2-master/video_frames/{cat}/{vid_name}/{cat}_{i}.png\",image)\n",
    "        vidcap.release()"
   ]
  },
  {
   "cell_type": "code",
   "execution_count": null,
   "id": "c043035f-5f76-40bd-ad46-b7c6e92035a5",
   "metadata": {},
   "outputs": [],
   "source": []
  },
  {
   "cell_type": "code",
   "execution_count": null,
   "id": "73995a5f-5244-49d2-9943-72e0642190dd",
   "metadata": {},
   "outputs": [],
   "source": []
  }
 ],
 "metadata": {
  "kernelspec": {
   "display_name": "Python 3 (ipykernel)",
   "language": "python",
   "name": "python3"
  },
  "language_info": {
   "codemirror_mode": {
    "name": "ipython",
    "version": 3
   },
   "file_extension": ".py",
   "mimetype": "text/x-python",
   "name": "python",
   "nbconvert_exporter": "python",
   "pygments_lexer": "ipython3",
   "version": "3.10.10"
  }
 },
 "nbformat": 4,
 "nbformat_minor": 5
}
